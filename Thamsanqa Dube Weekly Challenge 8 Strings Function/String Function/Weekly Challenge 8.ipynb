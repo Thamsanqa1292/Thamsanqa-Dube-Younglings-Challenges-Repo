{
 "cells": [
  {
   "cell_type": "code",
   "execution_count": 1,
   "id": "2ca839b2",
   "metadata": {},
   "outputs": [
    {
     "name": "stdout",
     "output_type": "stream",
     "text": [
      "Enter Input: jchkj 3$#65 kn7868 hgj\n",
      "Total Characters, Numbers & Special Characters\n",
      "Characters =  10 Numbers =  7 Special Characters =  5\n",
      "None\n"
     ]
    }
   ],
   "source": [
    "def CountCharacter(StringData):\n",
    "    words = StringData.split()\n",
    "    countingCharacters = 0\n",
    "    countingNumbers = 0\n",
    "    specialCharacter = 0\n",
    "    for ch in StringData:\n",
    "        if ch.islower() or ch.isupper():\n",
    "            countingCharacters+=1\n",
    "        elif ch.isnumeric():\n",
    "            countingNumbers+=1\n",
    "        else:\n",
    "            specialCharacter+=1\n",
    "    print(\"Characters = \", countingCharacters, \"Numbers = \", countingNumbers, \"Special Characters = \", specialCharacter)\n",
    "StringData = input(\"Enter Input: \")\n",
    "print(\"Total Characters, Numbers & Special Characters\")\n",
    "print(CountCharacter(StringData))"
   ]
  },
  {
   "cell_type": "code",
   "execution_count": null,
   "id": "8b995a27",
   "metadata": {},
   "outputs": [],
   "source": []
  }
 ],
 "metadata": {
  "kernelspec": {
   "display_name": "Python 3",
   "language": "python",
   "name": "python3"
  },
  "language_info": {
   "codemirror_mode": {
    "name": "ipython",
    "version": 3
   },
   "file_extension": ".py",
   "mimetype": "text/x-python",
   "name": "python",
   "nbconvert_exporter": "python",
   "pygments_lexer": "ipython3",
   "version": "3.8.8"
  }
 },
 "nbformat": 4,
 "nbformat_minor": 5
}
